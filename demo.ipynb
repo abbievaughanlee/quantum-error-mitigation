{
 "cells": [
  {
   "cell_type": "code",
   "execution_count": 9,
   "metadata": {},
   "outputs": [
    {
     "name": "stdout",
     "output_type": "stream",
     "text": [
      "Generated a random circuit:\n",
      "     ┌────────────┐   ┌──────┐┌───┐                                 ┌─┐      \n",
      "q_0: ┤ Rz(5.2602) ├─X─┤0     ├┤ I ├──────────────────────■──────────┤M├──────\n",
      "     └──┬──────┬──┘ │ │      │├───┤┌──────────────┐┌───┐ │          └╥┘┌─┐   \n",
      "q_1: ───┤0     ├────X─┤  Ecr ├┤ Z ├┤1             ├┤ I ├─┼───────────╫─┤M├───\n",
      "        │  Ecr │    │ │      │└───┘│  Ryy(3.0223) │└───┘ │P(1.2143)  ║ └╥┘┌─┐\n",
      "q_2: ───┤1     ├────■─┤1     ├─────┤0             ├──────■───────────╫──╫─┤M├\n",
      "        └──────┘      └──────┘     └──────────────┘                  ║  ║ └╥┘\n",
      "c: 3/════════════════════════════════════════════════════════════════╩══╩══╩═\n",
      "                                                                     0  1  2 \n"
     ]
    }
   ],
   "source": [
    "from qiskit import QuantumCircuit\n",
    "from qiskit.circuit.random import random_circuit\n",
    "\n",
    "def create_random_circuit(num_qubits, depth):\n",
    "    # Qiskit's built-in random_circuit function: create a random quantum circuit of given number of qubits and depth.\n",
    "         # measure=True ensures that all qubits are measured at the end of the circuit\n",
    "    qc = random_circuit(num_qubits, depth, measure=True)\n",
    "    return qc\n",
    "\n",
    "num_qubits = 3\n",
    "depth = 5\n",
    "my_random_qc = create_random_circuit(num_qubits, depth)\n",
    "print(\"Generated a random circuit:\")\n",
    "print(my_random_qc)\n"
   ]
  },
  {
   "cell_type": "code",
   "execution_count": 10,
   "metadata": {},
   "outputs": [
    {
     "name": "stdout",
     "output_type": "stream",
     "text": [
      "Simulators are ready.\n"
     ]
    }
   ],
   "source": [
    "# need two quantum computers: one is noisy one is ideal:\n",
    "\n",
    "from qiskit_aer import AerSimulator\n",
    "from qiskit_aer.noise import NoiseModel, depolarizing_error\n",
    "\n",
    "# no noise model\n",
    "ideal_simulator = AerSimulator()\n",
    "\n",
    "# noise\n",
    "# depolarizing error simulates a random Pauli error (X, Y, or Z) occurring with a certain probability\n",
    "p_error = 0.01  # prob of a single-qubit gate error\n",
    "\n",
    "error_1 = depolarizing_error(p_error, 1)\n",
    "error_2 = depolarizing_error(p_error, 2) \n",
    "\n",
    "noise_model = NoiseModel()\n",
    "\n",
    "\n",
    "noise_model.add_all_qubit_quantum_error(error_1, ['sx', 'rz', 'id'])\n",
    "noise_model.add_all_qubit_quantum_error(error_2, ['cx'])\n",
    "\n",
    "noisy_simulator = AerSimulator(noise_model=noise_model)\n",
    "\n",
    "print(\"Simulators are ready.\")\n"
   ]
  },
  {
   "cell_type": "code",
   "execution_count": 11,
   "metadata": {},
   "outputs": [
    {
     "name": "stdout",
     "output_type": "stream",
     "text": [
      "\n",
      "--- Simulation Results ---\n",
      "Ideal Counts: {'010': 252, '001': 266, '101': 246, '110': 256, '100': 1, '011': 1, '111': 1, '000': 1}\n",
      "Noisy Counts: {'001': 253, '101': 257, '110': 260, '010': 231, '000': 7, '100': 11, '111': 2, '011': 3}\n"
     ]
    }
   ],
   "source": [
    "# run the circuit:\n",
    "\n",
    "qc = my_random_qc # random circuit from cell 1\n",
    "shots = 1024 \n",
    "\n",
    "ideal_job = ideal_simulator.run(qc, shots=shots)\n",
    "ideal_result = ideal_job.result()\n",
    "ideal_counts = ideal_result.get_counts()\n",
    "\n",
    "noisy_job = noisy_simulator.run(qc, shots=shots)\n",
    "noisy_result = noisy_job.result()\n",
    "noisy_counts = noisy_result.get_counts()\n",
    "\n",
    "print(\"\\n--- Simulation Results ---\")\n",
    "print(\"Ideal Counts:\", ideal_counts)\n",
    "print(\"Noisy Counts:\", noisy_counts)"
   ]
  },
  {
   "cell_type": "code",
   "execution_count": 14,
   "metadata": {},
   "outputs": [],
   "source": [
    "# now, we must convert counts to probabilities:\n",
    "import numpy as np\n",
    "def counts_to_vector(counts, num_qubits):\n",
    "    # goal: converts a qiskit counts dictionary to a fixed length prob vector\n",
    "    num_outcomes = 2**num_qubits # dimension\n",
    "    prob_vector = np.zeros(num_outcomes)\n",
    "    total_shots = sum(counts.values())\n",
    "\n",
    "    for bitstring, count in counts.items():\n",
    "        # convert bitstring to an integer index (e.g. '011' -> 3)\n",
    "        index = int(bitstring, 2)\n",
    "        prob_vector[index] = count / total_shots\n",
    "    return prob_vector"
   ]
  },
  {
   "cell_type": "code",
   "execution_count": 15,
   "metadata": {},
   "outputs": [
    {
     "name": "stdout",
     "output_type": "stream",
     "text": [
      "\n",
      "--- Processed Vectors ---\n",
      "Ideal Vector (y): [0.00097656 0.25976562 0.24609375 0.00097656 0.00097656 0.24023438\n",
      " 0.25       0.00097656]\n",
      "Noisy Vector (X): [0.00683594 0.24707031 0.22558594 0.00292969 0.01074219 0.25097656\n",
      " 0.25390625 0.00195312]\n",
      "Vector Length: 8\n",
      "Sum of probabilities: 1.0\n"
     ]
    }
   ],
   "source": [
    "# example\n",
    "ideal_vector = counts_to_vector(ideal_counts, num_qubits)\n",
    "noisy_vector = counts_to_vector(noisy_counts, num_qubits)\n",
    "\n",
    "print(\"\\n--- Processed Vectors ---\")\n",
    "print(\"Ideal Vector (y):\", ideal_vector)\n",
    "print(\"Noisy Vector (X):\", noisy_vector)\n",
    "print(\"Vector Length:\", len(ideal_vector))\n",
    "print(\"Sum of probabilities:\", np.sum(ideal_vector))\n"
   ]
  }
 ],
 "metadata": {
  "kernelspec": {
   "display_name": "qis102",
   "language": "python",
   "name": "python3"
  },
  "language_info": {
   "codemirror_mode": {
    "name": "ipython",
    "version": 3
   },
   "file_extension": ".py",
   "mimetype": "text/x-python",
   "name": "python",
   "nbconvert_exporter": "python",
   "pygments_lexer": "ipython3",
   "version": "3.12.3"
  }
 },
 "nbformat": 4,
 "nbformat_minor": 2
}
