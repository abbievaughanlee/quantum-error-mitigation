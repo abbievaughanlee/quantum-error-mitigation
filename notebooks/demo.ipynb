{
 "cells": [
  {
   "cell_type": "code",
   "execution_count": 1,
   "metadata": {},
   "outputs": [
    {
     "name": "stdout",
     "output_type": "stream",
     "text": [
      "Generated a random circuit:\n",
      "          ┌───┐     ┌────────────┐ ┌──────────────────┐┌────────────┐┌───┐ ┌─┐»\n",
      "q_0: ─────┤ T ├─────┤ Ry(1.3364) ├─┤ R(5.9896,1.9378) ├┤ Ry(6.2757) ├┤ Y ├─┤M├»\n",
      "     ┌────┴───┴────┐└───┬───┬────┘┌┴──────────────────┤└───┬───┬────┘├───┴┐└╥┘»\n",
      "q_1: ┤ Rz(0.60924) ├────┤ S ├─────┤ U2(1.3378,3.6439) ├────┤ H ├─────┤ √X ├─╫─»\n",
      "     └──────┬──────┘    ├───┤     └───┬────────────┬──┘    └─┬─┘     ├────┤ ║ »\n",
      "q_2: ───────■───────────┤ I ├─────────┤ U1(4.3487) ├─────────■───────┤ √X ├─╫─»\n",
      "                        └───┘         └────────────┘                 └────┘ ║ »\n",
      "c: 3/═══════════════════════════════════════════════════════════════════════╩═»\n",
      "                                                                            0 »\n",
      "«           \n",
      "«q_0: ──────\n",
      "«     ┌─┐   \n",
      "«q_1: ┤M├───\n",
      "«     └╥┘┌─┐\n",
      "«q_2: ─╫─┤M├\n",
      "«      ║ └╥┘\n",
      "«c: 3/═╩══╩═\n",
      "«      1  2 \n"
     ]
    }
   ],
   "source": [
    "from qiskit import QuantumCircuit\n",
    "from qiskit.circuit.random import random_circuit\n",
    "\n",
    "def create_random_circuit(num_qubits, depth):\n",
    "    # Qiskit's built-in random_circuit function: create a random quantum circuit of given number of qubits and depth.\n",
    "         # measure=True ensures that all qubits are measured at the end of the circuit\n",
    "    qc = random_circuit(num_qubits, depth, measure=True)\n",
    "    return qc\n",
    "\n",
    "num_qubits = 3\n",
    "depth = 5\n",
    "my_random_qc = create_random_circuit(num_qubits, depth)\n",
    "print(\"Generated a random circuit:\")\n",
    "print(my_random_qc)\n"
   ]
  },
  {
   "cell_type": "code",
   "execution_count": 2,
   "metadata": {},
   "outputs": [
    {
     "name": "stdout",
     "output_type": "stream",
     "text": [
      "Simulators are ready.\n"
     ]
    }
   ],
   "source": [
    "# need two quantum computers: one is noisy one is ideal:\n",
    "\n",
    "from qiskit_aer import AerSimulator\n",
    "from qiskit_aer.noise import NoiseModel, depolarizing_error\n",
    "\n",
    "# no noise model\n",
    "ideal_simulator = AerSimulator()\n",
    "\n",
    "# noise\n",
    "# depolarizing error simulates a random Pauli error (X, Y, or Z) occurring with a certain probability\n",
    "p_error = 0.01  # prob of a single-qubit gate error\n",
    "\n",
    "error_1 = depolarizing_error(p_error, 1)\n",
    "error_2 = depolarizing_error(p_error, 2) \n",
    "\n",
    "noise_model = NoiseModel()\n",
    "\n",
    "\n",
    "noise_model.add_all_qubit_quantum_error(error_1, ['sx', 'rz', 'id'])\n",
    "noise_model.add_all_qubit_quantum_error(error_2, ['cx'])\n",
    "\n",
    "noisy_simulator = AerSimulator(noise_model=noise_model)\n",
    "\n",
    "print(\"Simulators are ready.\")\n"
   ]
  },
  {
   "cell_type": "code",
   "execution_count": 6,
   "metadata": {},
   "outputs": [
    {
     "name": "stdout",
     "output_type": "stream",
     "text": [
      "\n",
      "--- Simulation Results ---\n",
      "Ideal Counts: {'000': 115, '101': 379, '100': 112, '001': 403, '111': 9, '011': 5, '110': 1}\n",
      "Noisy Counts: {'001': 355, '101': 348, '111': 35, '100': 115, '000': 123, '011': 26, '110': 16, '010': 6}\n"
     ]
    }
   ],
   "source": [
    "from qiskit import transpile\n",
    "\n",
    "# run the circuit:\n",
    "\n",
    "qc = my_random_qc # random circuit from cell 1\n",
    "shots = 1024 \n",
    "\n",
    "# Transpile the circuit for the AerSimulator basis gates\n",
    "basis_gates = ['cx', 'id', 'rz', 'sx', 'x']\n",
    "qc_ideal = transpile(qc, basis_gates=basis_gates)\n",
    "qc_noisy = transpile(qc, basis_gates=basis_gates)\n",
    "\n",
    "ideal_job = ideal_simulator.run(qc_ideal, shots=shots)\n",
    "ideal_result = ideal_job.result()\n",
    "ideal_counts = ideal_result.get_counts()\n",
    "\n",
    "noisy_job = noisy_simulator.run(qc_noisy, shots=shots)\n",
    "noisy_result = noisy_job.result()\n",
    "noisy_counts = noisy_result.get_counts()\n",
    "\n",
    "print(\"\\n--- Simulation Results ---\")\n",
    "print(\"Ideal Counts:\", ideal_counts)\n",
    "print(\"Noisy Counts:\", noisy_counts)"
   ]
  },
  {
   "cell_type": "code",
   "execution_count": null,
   "metadata": {},
   "outputs": [],
   "source": [
    "# now, we must convert counts to probabilities:\n",
    "import numpy as np\n",
    "def counts_to_vector(counts, num_qubits):\n",
    "    # goal: converts a qiskit counts dictionary to a fixed length prob vector\n",
    "    num_outcomes = 2**num_qubits # dimension\n",
    "    prob_vector = np.zeros(num_outcomes)\n",
    "    total_shots = sum(counts.values())\n",
    "\n",
    "    for bitstring, count in counts.items():\n",
    "        # convert bitstring to an integer index (e.g. '011' -> 3)\n",
    "        index = int(bitstring, 2)\n",
    "        prob_vector[index] = count / total_shots\n",
    "    return prob_vector"
   ]
  },
  {
   "cell_type": "code",
   "execution_count": null,
   "metadata": {},
   "outputs": [
    {
     "name": "stdout",
     "output_type": "stream",
     "text": [
      "\n",
      "--- Processed Vectors ---\n",
      "Ideal Vector (y): [0.00097656 0.25976562 0.24609375 0.00097656 0.00097656 0.24023438\n",
      " 0.25       0.00097656]\n",
      "Noisy Vector (X): [0.00683594 0.24707031 0.22558594 0.00292969 0.01074219 0.25097656\n",
      " 0.25390625 0.00195312]\n",
      "Vector Length: 8\n",
      "Sum of probabilities: 1.0\n"
     ]
    }
   ],
   "source": [
    "# example\n",
    "ideal_vector = counts_to_vector(ideal_counts, num_qubits)\n",
    "noisy_vector = counts_to_vector(noisy_counts, num_qubits)\n",
    "\n",
    "print(\"\\n--- Processed Vectors ---\")\n",
    "print(\"Ideal Vector (y):\", ideal_vector)\n",
    "print(\"Noisy Vector (X):\", noisy_vector)\n",
    "print(\"Vector Length:\", len(ideal_vector))\n",
    "print(\"Sum of probabilities:\", np.sum(ideal_vector))\n"
   ]
  }
 ],
 "metadata": {
  "kernelspec": {
   "display_name": "qis102",
   "language": "python",
   "name": "python3"
  },
  "language_info": {
   "codemirror_mode": {
    "name": "ipython",
    "version": 3
   },
   "file_extension": ".py",
   "mimetype": "text/x-python",
   "name": "python",
   "nbconvert_exporter": "python",
   "pygments_lexer": "ipython3",
   "version": "3.12.3"
  }
 },
 "nbformat": 4,
 "nbformat_minor": 2
}
